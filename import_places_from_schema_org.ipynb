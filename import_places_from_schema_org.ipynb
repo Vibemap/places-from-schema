{
  "nbformat": 4,
  "nbformat_minor": 0,
  "metadata": {
    "colab": {
      "name": "import_places_from_schema.org.ipynb",
      "provenance": [],
      "collapsed_sections": [],
      "authorship_tag": "ABX9TyPw+acCT0cV5bms3d6ZiSJ6",
      "include_colab_link": true
    },
    "kernelspec": {
      "display_name": "Python 3",
      "name": "python3"
    },
    "language_info": {
      "name": "python"
    }
  },
  "cells": [
    {
      "cell_type": "markdown",
      "metadata": {
        "id": "view-in-github",
        "colab_type": "text"
      },
      "source": [
        "<a href=\"https://colab.research.google.com/github/Vibemap/places-from-schema/blob/main/import_places_from_schema_org.ipynb\" target=\"_parent\"><img src=\"https://colab.research.google.com/assets/colab-badge.svg\" alt=\"Open In Colab\"/></a>"
      ]
    },
    {
      "cell_type": "code",
      "metadata": {
        "colab": {
          "background_save": true
        },
        "id": "CQS1jEcCao-n"
      },
      "source": [
        "import pandas as pd\n"
      ],
      "execution_count": null,
      "outputs": []
    },
    {
      "cell_type": "code",
      "metadata": {
        "id": "RS-jocZxaxO3"
      },
      "source": [
        "source_opentable = 'https://github.com/Vibemap/places-from-schema/blob/main/data/Restaurant_opentable.com_September2020.json.gz?raw=true'\n",
        "\n",
        "df_opentable = pd.read_json(\n",
        "  source_opentable,\n",
        "  lines=True,\n",
        "  compression='gzip'\n",
        ")\n"
      ],
      "execution_count": 2,
      "outputs": []
    },
    {
      "cell_type": "code",
      "metadata": {
        "colab": {
          "base_uri": "https://localhost:8080/",
          "height": 602
        },
        "id": "v_nRz86phNE9",
        "outputId": "5551d58a-e35d-49c9-e5df-501cf315aa18"
      },
      "source": [
        "df_opentable.head()"
      ],
      "execution_count": 4,
      "outputs": [
        {
          "output_type": "execute_result",
          "data": {
            "text/html": [
              "<div>\n",
              "<style scoped>\n",
              "    .dataframe tbody tr th:only-of-type {\n",
              "        vertical-align: middle;\n",
              "    }\n",
              "\n",
              "    .dataframe tbody tr th {\n",
              "        vertical-align: top;\n",
              "    }\n",
              "\n",
              "    .dataframe thead th {\n",
              "        text-align: right;\n",
              "    }\n",
              "</style>\n",
              "<table border=\"1\" class=\"dataframe\">\n",
              "  <thead>\n",
              "    <tr style=\"text-align: right;\">\n",
              "      <th></th>\n",
              "      <th>row_id</th>\n",
              "      <th>name</th>\n",
              "      <th>address</th>\n",
              "      <th>telephone</th>\n",
              "      <th>geo</th>\n",
              "      <th>servescuisine</th>\n",
              "      <th>description</th>\n",
              "      <th>aggregaterating</th>\n",
              "      <th>openinghours</th>\n",
              "      <th>pricerange</th>\n",
              "      <th>review</th>\n",
              "      <th>hasmenu</th>\n",
              "      <th>acceptsreservations</th>\n",
              "      <th>page_url</th>\n",
              "    </tr>\n",
              "  </thead>\n",
              "  <tbody>\n",
              "    <tr>\n",
              "      <th>0</th>\n",
              "      <td>0</td>\n",
              "      <td>Apple Peddler No 7</td>\n",
              "      <td>{'name': 'Apple Peddler No 7', 'streetaddress'...</td>\n",
              "      <td>(541) 573-2820</td>\n",
              "      <td>{'longitude': '-119.0764690', 'latitude': '43....</td>\n",
              "      <td>American</td>\n",
              "      <td>Coming Soon!</td>\n",
              "      <td>None</td>\n",
              "      <td>None</td>\n",
              "      <td>$30 and under</td>\n",
              "      <td>None</td>\n",
              "      <td>[{'name': 'Dinner Menu'}, {'name': 'Lunch Menu...</td>\n",
              "      <td>None</td>\n",
              "      <td>https://www.opentable.com/r/apple-peddler-no-7...</td>\n",
              "    </tr>\n",
              "    <tr>\n",
              "      <th>1</th>\n",
              "      <td>1</td>\n",
              "      <td>All Day Dining Alpine Brasserie - The Kiroro a...</td>\n",
              "      <td>{'name': 'All Day Dining Alpine Brasserie - Th...</td>\n",
              "      <td>0135-35-3128</td>\n",
              "      <td>{'longitude': '140.9828720', 'latitude': '43.0...</td>\n",
              "      <td>Continental</td>\n",
              "      <td>Our easily accessible all-day-dining venue fea...</td>\n",
              "      <td>{'ratingvalue': '4.1E0', 'reviewcount': '20'}</td>\n",
              "      <td>9:00AM-11:30AM Coffee Sales &lt;br /&gt; &lt;br /&gt; Lunc...</td>\n",
              "      <td>¥5,001 to ¥10,000</td>\n",
              "      <td>[{'reviewbody': 'Comfortable for families and ...</td>\n",
              "      <td>None</td>\n",
              "      <td>{'name': 'All Day Dining Alpine Brasserie - Th...</td>\n",
              "      <td>https://www.opentable.com/r/all-day-dining-alp...</td>\n",
              "    </tr>\n",
              "    <tr>\n",
              "      <th>2</th>\n",
              "      <td>2</td>\n",
              "      <td>Aretsky's Patroon</td>\n",
              "      <td>{'name': 'Aretsky's Patroon', 'streetaddress':...</td>\n",
              "      <td>(212) 883-7373</td>\n",
              "      <td>{'longitude': '-73.9736950', 'latitude': '40.7...</td>\n",
              "      <td>American, Steakhouse, Seafood</td>\n",
              "      <td>Welcome to Aretsky's Patroon, a classic New Yo...</td>\n",
              "      <td>{'reviewcount': '1136', 'ratingvalue': '4.8E0'}</td>\n",
              "      <td>Dinner &lt;br /&gt;Mon–Fri 12:00 pm–8:00 pm</td>\n",
              "      <td>$31 to $50</td>\n",
              "      <td>[{'reviewbody': 'Great dinner experience...', ...</td>\n",
              "      <td>{'name': 'Bar'}</td>\n",
              "      <td>{'name': 'Aretsky's Patroon', 'description': '...</td>\n",
              "      <td>https://www.opentable.com/r/aretskys-patroon-n...</td>\n",
              "    </tr>\n",
              "    <tr>\n",
              "      <th>3</th>\n",
              "      <td>3</td>\n",
              "      <td>Fat Patty's - Barboursville</td>\n",
              "      <td>{'postalcode': '25504-1608', 'addresslocality'...</td>\n",
              "      <td>(304) 736-3600</td>\n",
              "      <td>{'latitude': '38.4172940', 'longitude': '-82.2...</td>\n",
              "      <td>American, Burgers, Contemporary American</td>\n",
              "      <td>Fat Patty's opened its doors in 2007 beside th...</td>\n",
              "      <td>None</td>\n",
              "      <td>Daily 11:00 am–10:00 pm</td>\n",
              "      <td>$30 and under</td>\n",
              "      <td>None</td>\n",
              "      <td>[{'name': 'From the Bar', 'description': 'Sele...</td>\n",
              "      <td>{'telephone': '(304) 736-3600', 'pricerange': ...</td>\n",
              "      <td>https://www.opentable.com/r/fat-pattys-barbour...</td>\n",
              "    </tr>\n",
              "    <tr>\n",
              "      <th>4</th>\n",
              "      <td>4</td>\n",
              "      <td>Pollo Palenque - McPherson</td>\n",
              "      <td>{'streetaddress': '9109 McPherson Rd #2 Laredo...</td>\n",
              "      <td>(956) 729-7755</td>\n",
              "      <td>{'latitude': '27.5936650', 'longitude': '-99.4...</td>\n",
              "      <td>Mexican, Grill</td>\n",
              "      <td>Pollo Palenque is the perfect meal to share wi...</td>\n",
              "      <td>None</td>\n",
              "      <td>None</td>\n",
              "      <td>$30 and under</td>\n",
              "      <td>None</td>\n",
              "      <td>None</td>\n",
              "      <td>{'servescuisine': 'Mexican, Grill', 'descripti...</td>\n",
              "      <td>https://www.opentable.com/r/pollo-palenque-mcp...</td>\n",
              "    </tr>\n",
              "  </tbody>\n",
              "</table>\n",
              "</div>"
            ],
            "text/plain": [
              "   row_id  ...                                           page_url\n",
              "0       0  ...  https://www.opentable.com/r/apple-peddler-no-7...\n",
              "1       1  ...  https://www.opentable.com/r/all-day-dining-alp...\n",
              "2       2  ...  https://www.opentable.com/r/aretskys-patroon-n...\n",
              "3       3  ...  https://www.opentable.com/r/fat-pattys-barbour...\n",
              "4       4  ...  https://www.opentable.com/r/pollo-palenque-mcp...\n",
              "\n",
              "[5 rows x 14 columns]"
            ]
          },
          "metadata": {},
          "execution_count": 4
        }
      ]
    },
    {
      "cell_type": "code",
      "metadata": {
        "id": "N0XFJFTahQX7",
        "colab": {
          "base_uri": "https://localhost:8080/"
        },
        "outputId": "ee205e3c-fa19-4ac1-f40a-58eb48eb25fa"
      },
      "source": [
        "df_opentable.page_url.head()"
      ],
      "execution_count": 5,
      "outputs": [
        {
          "output_type": "execute_result",
          "data": {
            "text/plain": [
              "0    https://www.opentable.com/r/apple-peddler-no-7...\n",
              "1    https://www.opentable.com/r/all-day-dining-alp...\n",
              "2    https://www.opentable.com/r/aretskys-patroon-n...\n",
              "3    https://www.opentable.com/r/fat-pattys-barbour...\n",
              "4    https://www.opentable.com/r/pollo-palenque-mcp...\n",
              "Name: page_url, dtype: object"
            ]
          },
          "metadata": {},
          "execution_count": 5
        }
      ]
    },
    {
      "cell_type": "code",
      "metadata": {
        "id": "X8S-dtCWfhOa"
      },
      "source": [
        "columns = ['name', 'address', 'telephone', 'description', 'aggregaterating']\n",
        "df_to_dict = df_opentable[columns].to_dict(orient='records')"
      ],
      "execution_count": 6,
      "outputs": []
    },
    {
      "cell_type": "code",
      "metadata": {
        "colab": {
          "base_uri": "https://localhost:8080/"
        },
        "id": "xpZref3YgWA1",
        "outputId": "6dbd8329-8c16-47e7-e176-6e1e7a8d1a33"
      },
      "source": [
        "df_to_dict[1]"
      ],
      "execution_count": 9,
      "outputs": [
        {
          "output_type": "execute_result",
          "data": {
            "text/plain": [
              "{'address': {'addresscountry': 'JP',\n",
              "  'addresslocality': 'Yoichi-gun',\n",
              "  'addressregion': 'Hokkaido',\n",
              "  'name': 'All Day Dining Alpine Brasserie - The Kiroro a Tribute Portfolio Hotel Hokkaido',\n",
              "  'postalcode': '046-0593',\n",
              "  'streetaddress': '046-0593 HokkaidoYoichi-gun128-1 Aza-Tokiwa, Akaigawa-mura The Kiroro, a Tribute Portfolio Hotel, Hokkaido 1F'},\n",
              " 'aggregaterating': {'ratingvalue': '4.1E0', 'reviewcount': '20'},\n",
              " 'description': 'Our easily accessible all-day-dining venue features dishes created with local ingredients. Offering lunch, afternoon tea and authentic European dinner dishes made with care from our chefs. Take away or eat in Ckes available from our Cake counter, or sit back and have a beer at night in its bar atmosphere<br />',\n",
              " 'name': 'All Day Dining Alpine Brasserie - The Kiroro a Tribute Portfolio Hotel Hokkaido',\n",
              " 'telephone': '0135-35-3128'}"
            ]
          },
          "metadata": {},
          "execution_count": 9
        }
      ]
    },
    {
      "cell_type": "code",
      "metadata": {
        "id": "vmvafr26gXUP"
      },
      "source": [
        ""
      ],
      "execution_count": null,
      "outputs": []
    }
  ]
}